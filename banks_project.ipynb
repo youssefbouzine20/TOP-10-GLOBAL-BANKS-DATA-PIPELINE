{
 "cells": [
  {
   "cell_type": "code",
   "execution_count": 80,
   "id": "0ac294c5",
   "metadata": {},
   "outputs": [],
   "source": [
    "from bs4 import BeautifulSoup\n",
    "import numpy as np\n",
    "import sqlite3\n",
    "from datetime import datetime \n",
    "import requests\n",
    "import pandas as pd\n"
   ]
  },
  {
   "cell_type": "code",
   "execution_count": 81,
   "id": "047efc52",
   "metadata": {},
   "outputs": [],
   "source": [
    "URL ='https://web.archive.org/web/20230908091635/https://en.wikipedia.org/wiki/List_of_largest_banks'\n",
    "attributes =['Name','MC_USD_Billion']\n",
    "csv_path = 'https://cf-courses-data.s3.us.cloud-object-storage.appdomain.cloud/IBMSkillsNetwork-PY0221EN-Coursera/labs/v2/exchange_rate.csv'\n",
    "db_name = 'Banks.db'\n",
    "output_path = './Largest_banks_data.csv'\n",
    "table_name='Largest_banks'\n",
    "log_file = 'code_log.txt'\n"
   ]
  },
  {
   "cell_type": "markdown",
   "id": "6f68d6ae",
   "metadata": {},
   "source": [
    "# Task 1"
   ]
  },
  {
   "cell_type": "code",
   "execution_count": 82,
   "id": "29eb9b67",
   "metadata": {},
   "outputs": [],
   "source": [
    "def log_progress(message):\n",
    "    timestamp_format = '%Y-%h-%d-%H:%M:%S'\n",
    "    now = datetime.now()\n",
    "    timestamp = now.strftime(timestamp_format) \n",
    "    with open(\"./code_log.txt\",\"a\") as f: \n",
    "        f.write(timestamp + ' : ' + message + '\\n')  "
   ]
  },
  {
   "cell_type": "markdown",
   "id": "4d60c408",
   "metadata": {},
   "source": [
    "# Task 2"
   ]
  },
  {
   "cell_type": "code",
   "execution_count": 83,
   "id": "ef7c6078",
   "metadata": {},
   "outputs": [],
   "source": [
    "def extract(url, table_attribs):\n",
    "    page = requests.get(url).text\n",
    "    data = BeautifulSoup(page, 'html.parser')\n",
    "    df = pd.DataFrame(columns=table_attribs)\n",
    "    \n",
    "    tables = data.find_all('tbody')\n",
    "    rows = tables[0].find_all('tr')\n",
    "    \n",
    "    for row in rows:\n",
    "        col = row.find_all('td')\n",
    "        if len(col) != 0:\n",
    "            if col[1].find('a') is not None:\n",
    "                data_cell = col[1].find_all('a')\n",
    "                if len(data_cell) >= 2:\n",
    "                    bank_name = data_cell[1]['title']\n",
    "                else:\n",
    "                    bank_name = data_cell[0].contents[0]\n",
    "                \n",
    "                market_cap = col[2].contents[0][:-1]\n",
    "                \n",
    "                data_dict = {\n",
    "                    \"Name\": bank_name,\n",
    "                    \"MC_USD_Billion\": float(market_cap)\n",
    "                }\n",
    "                df1 = pd.DataFrame(data_dict, index=[0])\n",
    "                df = pd.concat([df, df1], ignore_index=True)\n",
    "    \n",
    "    return df\n"
   ]
  },
  {
   "cell_type": "code",
   "execution_count": 84,
   "id": "9ca55077",
   "metadata": {},
   "outputs": [
    {
     "name": "stderr",
     "output_type": "stream",
     "text": [
      "C:\\Users\\ancir\\AppData\\Local\\Temp\\ipykernel_20184\\2723134287.py:26: FutureWarning: The behavior of DataFrame concatenation with empty or all-NA entries is deprecated. In a future version, this will no longer exclude empty or all-NA columns when determining the result dtypes. To retain the old behavior, exclude the relevant entries before the concat operation.\n",
      "  df = pd.concat([df, df1], ignore_index=True)\n"
     ]
    },
    {
     "data": {
      "application/vnd.microsoft.datawrangler.viewer.v0+json": {
       "columns": [
        {
         "name": "index",
         "rawType": "int64",
         "type": "integer"
        },
        {
         "name": "Name",
         "rawType": "object",
         "type": "string"
        },
        {
         "name": "MC_USD_Billion",
         "rawType": "float64",
         "type": "float"
        }
       ],
       "ref": "ff91590f-7a47-45b3-ba91-fb26e2b29ed8",
       "rows": [
        [
         "0",
         "JPMorgan Chase",
         "432.92"
        ],
        [
         "1",
         "Bank of America",
         "231.52"
        ],
        [
         "2",
         "Industrial and Commercial Bank of China",
         "194.56"
        ],
        [
         "3",
         "Agricultural Bank of China",
         "160.68"
        ],
        [
         "4",
         "HDFC Bank",
         "157.91"
        ],
        [
         "5",
         "Wells Fargo",
         "155.87"
        ],
        [
         "6",
         "HSBC",
         "148.9"
        ],
        [
         "7",
         "Morgan Stanley",
         "140.83"
        ],
        [
         "8",
         "China Construction Bank",
         "139.82"
        ],
        [
         "9",
         "Bank of China",
         "136.81"
        ]
       ],
       "shape": {
        "columns": 2,
        "rows": 10
       }
      },
      "text/html": [
       "<div>\n",
       "<style scoped>\n",
       "    .dataframe tbody tr th:only-of-type {\n",
       "        vertical-align: middle;\n",
       "    }\n",
       "\n",
       "    .dataframe tbody tr th {\n",
       "        vertical-align: top;\n",
       "    }\n",
       "\n",
       "    .dataframe thead th {\n",
       "        text-align: right;\n",
       "    }\n",
       "</style>\n",
       "<table border=\"1\" class=\"dataframe\">\n",
       "  <thead>\n",
       "    <tr style=\"text-align: right;\">\n",
       "      <th></th>\n",
       "      <th>Name</th>\n",
       "      <th>MC_USD_Billion</th>\n",
       "    </tr>\n",
       "  </thead>\n",
       "  <tbody>\n",
       "    <tr>\n",
       "      <th>0</th>\n",
       "      <td>JPMorgan Chase</td>\n",
       "      <td>432.92</td>\n",
       "    </tr>\n",
       "    <tr>\n",
       "      <th>1</th>\n",
       "      <td>Bank of America</td>\n",
       "      <td>231.52</td>\n",
       "    </tr>\n",
       "    <tr>\n",
       "      <th>2</th>\n",
       "      <td>Industrial and Commercial Bank of China</td>\n",
       "      <td>194.56</td>\n",
       "    </tr>\n",
       "    <tr>\n",
       "      <th>3</th>\n",
       "      <td>Agricultural Bank of China</td>\n",
       "      <td>160.68</td>\n",
       "    </tr>\n",
       "    <tr>\n",
       "      <th>4</th>\n",
       "      <td>HDFC Bank</td>\n",
       "      <td>157.91</td>\n",
       "    </tr>\n",
       "    <tr>\n",
       "      <th>5</th>\n",
       "      <td>Wells Fargo</td>\n",
       "      <td>155.87</td>\n",
       "    </tr>\n",
       "    <tr>\n",
       "      <th>6</th>\n",
       "      <td>HSBC</td>\n",
       "      <td>148.90</td>\n",
       "    </tr>\n",
       "    <tr>\n",
       "      <th>7</th>\n",
       "      <td>Morgan Stanley</td>\n",
       "      <td>140.83</td>\n",
       "    </tr>\n",
       "    <tr>\n",
       "      <th>8</th>\n",
       "      <td>China Construction Bank</td>\n",
       "      <td>139.82</td>\n",
       "    </tr>\n",
       "    <tr>\n",
       "      <th>9</th>\n",
       "      <td>Bank of China</td>\n",
       "      <td>136.81</td>\n",
       "    </tr>\n",
       "  </tbody>\n",
       "</table>\n",
       "</div>"
      ],
      "text/plain": [
       "                                      Name  MC_USD_Billion\n",
       "0                           JPMorgan Chase          432.92\n",
       "1                          Bank of America          231.52\n",
       "2  Industrial and Commercial Bank of China          194.56\n",
       "3               Agricultural Bank of China          160.68\n",
       "4                                HDFC Bank          157.91\n",
       "5                              Wells Fargo          155.87\n",
       "6                                     HSBC          148.90\n",
       "7                           Morgan Stanley          140.83\n",
       "8                  China Construction Bank          139.82\n",
       "9                            Bank of China          136.81"
      ]
     },
     "execution_count": 84,
     "metadata": {},
     "output_type": "execute_result"
    }
   ],
   "source": [
    "df = extract(URL,attributes)\n",
    "df"
   ]
  },
  {
   "cell_type": "markdown",
   "id": "5b2ce7ba",
   "metadata": {},
   "source": [
    "# Task 3"
   ]
  },
  {
   "cell_type": "code",
   "execution_count": 85,
   "id": "7f79f2e0",
   "metadata": {},
   "outputs": [],
   "source": [
    "def transform(df, csv_path):\n",
    "    \n",
    "    exchange_rate_df = pd.read_csv(csv_path)\n",
    "    exchange_rate = exchange_rate_df.set_index('Currency').to_dict()['Rate']\n",
    "    \n",
    "    df['MC_GBP_Billion'] = [np.round(float(x) * float(exchange_rate['GBP']), 2) for x in df['MC_USD_Billion']]\n",
    "    df['MC_EUR_Billion'] = [np.round(float(x) * float(exchange_rate['EUR']), 2) for x in df['MC_USD_Billion']]\n",
    "    df['MC_INR_Billion'] = [np.round(float(x) * float(exchange_rate['INR']), 2) for x in df['MC_USD_Billion']]\n",
    "    \n",
    "    return df\n"
   ]
  },
  {
   "cell_type": "code",
   "execution_count": 86,
   "id": "ca60beb0",
   "metadata": {},
   "outputs": [
    {
     "data": {
      "application/vnd.microsoft.datawrangler.viewer.v0+json": {
       "columns": [
        {
         "name": "index",
         "rawType": "int64",
         "type": "integer"
        },
        {
         "name": "Name",
         "rawType": "object",
         "type": "string"
        },
        {
         "name": "MC_USD_Billion",
         "rawType": "float64",
         "type": "float"
        },
        {
         "name": "MC_GBP_Billion",
         "rawType": "float64",
         "type": "float"
        },
        {
         "name": "MC_EUR_Billion",
         "rawType": "float64",
         "type": "float"
        },
        {
         "name": "MC_INR_Billion",
         "rawType": "float64",
         "type": "float"
        }
       ],
       "ref": "606a617f-6d14-4dcf-b5b3-6f2cb33b6a73",
       "rows": [
        [
         "0",
         "JPMorgan Chase",
         "432.92",
         "346.34",
         "402.62",
         "35910.71"
        ],
        [
         "1",
         "Bank of America",
         "231.52",
         "185.22",
         "215.31",
         "19204.58"
        ],
        [
         "2",
         "Industrial and Commercial Bank of China",
         "194.56",
         "155.65",
         "180.94",
         "16138.75"
        ],
        [
         "3",
         "Agricultural Bank of China",
         "160.68",
         "128.54",
         "149.43",
         "13328.41"
        ],
        [
         "4",
         "HDFC Bank",
         "157.91",
         "126.33",
         "146.86",
         "13098.63"
        ],
        [
         "5",
         "Wells Fargo",
         "155.87",
         "124.7",
         "144.96",
         "12929.42"
        ],
        [
         "6",
         "HSBC",
         "148.9",
         "119.12",
         "138.48",
         "12351.26"
        ],
        [
         "7",
         "Morgan Stanley",
         "140.83",
         "112.66",
         "130.97",
         "11681.85"
        ],
        [
         "8",
         "China Construction Bank",
         "139.82",
         "111.86",
         "130.03",
         "11598.07"
        ],
        [
         "9",
         "Bank of China",
         "136.81",
         "109.45",
         "127.23",
         "11348.39"
        ]
       ],
       "shape": {
        "columns": 5,
        "rows": 10
       }
      },
      "text/html": [
       "<div>\n",
       "<style scoped>\n",
       "    .dataframe tbody tr th:only-of-type {\n",
       "        vertical-align: middle;\n",
       "    }\n",
       "\n",
       "    .dataframe tbody tr th {\n",
       "        vertical-align: top;\n",
       "    }\n",
       "\n",
       "    .dataframe thead th {\n",
       "        text-align: right;\n",
       "    }\n",
       "</style>\n",
       "<table border=\"1\" class=\"dataframe\">\n",
       "  <thead>\n",
       "    <tr style=\"text-align: right;\">\n",
       "      <th></th>\n",
       "      <th>Name</th>\n",
       "      <th>MC_USD_Billion</th>\n",
       "      <th>MC_GBP_Billion</th>\n",
       "      <th>MC_EUR_Billion</th>\n",
       "      <th>MC_INR_Billion</th>\n",
       "    </tr>\n",
       "  </thead>\n",
       "  <tbody>\n",
       "    <tr>\n",
       "      <th>0</th>\n",
       "      <td>JPMorgan Chase</td>\n",
       "      <td>432.92</td>\n",
       "      <td>346.34</td>\n",
       "      <td>402.62</td>\n",
       "      <td>35910.71</td>\n",
       "    </tr>\n",
       "    <tr>\n",
       "      <th>1</th>\n",
       "      <td>Bank of America</td>\n",
       "      <td>231.52</td>\n",
       "      <td>185.22</td>\n",
       "      <td>215.31</td>\n",
       "      <td>19204.58</td>\n",
       "    </tr>\n",
       "    <tr>\n",
       "      <th>2</th>\n",
       "      <td>Industrial and Commercial Bank of China</td>\n",
       "      <td>194.56</td>\n",
       "      <td>155.65</td>\n",
       "      <td>180.94</td>\n",
       "      <td>16138.75</td>\n",
       "    </tr>\n",
       "    <tr>\n",
       "      <th>3</th>\n",
       "      <td>Agricultural Bank of China</td>\n",
       "      <td>160.68</td>\n",
       "      <td>128.54</td>\n",
       "      <td>149.43</td>\n",
       "      <td>13328.41</td>\n",
       "    </tr>\n",
       "    <tr>\n",
       "      <th>4</th>\n",
       "      <td>HDFC Bank</td>\n",
       "      <td>157.91</td>\n",
       "      <td>126.33</td>\n",
       "      <td>146.86</td>\n",
       "      <td>13098.63</td>\n",
       "    </tr>\n",
       "    <tr>\n",
       "      <th>5</th>\n",
       "      <td>Wells Fargo</td>\n",
       "      <td>155.87</td>\n",
       "      <td>124.70</td>\n",
       "      <td>144.96</td>\n",
       "      <td>12929.42</td>\n",
       "    </tr>\n",
       "    <tr>\n",
       "      <th>6</th>\n",
       "      <td>HSBC</td>\n",
       "      <td>148.90</td>\n",
       "      <td>119.12</td>\n",
       "      <td>138.48</td>\n",
       "      <td>12351.26</td>\n",
       "    </tr>\n",
       "    <tr>\n",
       "      <th>7</th>\n",
       "      <td>Morgan Stanley</td>\n",
       "      <td>140.83</td>\n",
       "      <td>112.66</td>\n",
       "      <td>130.97</td>\n",
       "      <td>11681.85</td>\n",
       "    </tr>\n",
       "    <tr>\n",
       "      <th>8</th>\n",
       "      <td>China Construction Bank</td>\n",
       "      <td>139.82</td>\n",
       "      <td>111.86</td>\n",
       "      <td>130.03</td>\n",
       "      <td>11598.07</td>\n",
       "    </tr>\n",
       "    <tr>\n",
       "      <th>9</th>\n",
       "      <td>Bank of China</td>\n",
       "      <td>136.81</td>\n",
       "      <td>109.45</td>\n",
       "      <td>127.23</td>\n",
       "      <td>11348.39</td>\n",
       "    </tr>\n",
       "  </tbody>\n",
       "</table>\n",
       "</div>"
      ],
      "text/plain": [
       "                                      Name  MC_USD_Billion  MC_GBP_Billion  \\\n",
       "0                           JPMorgan Chase          432.92          346.34   \n",
       "1                          Bank of America          231.52          185.22   \n",
       "2  Industrial and Commercial Bank of China          194.56          155.65   \n",
       "3               Agricultural Bank of China          160.68          128.54   \n",
       "4                                HDFC Bank          157.91          126.33   \n",
       "5                              Wells Fargo          155.87          124.70   \n",
       "6                                     HSBC          148.90          119.12   \n",
       "7                           Morgan Stanley          140.83          112.66   \n",
       "8                  China Construction Bank          139.82          111.86   \n",
       "9                            Bank of China          136.81          109.45   \n",
       "\n",
       "   MC_EUR_Billion  MC_INR_Billion  \n",
       "0          402.62        35910.71  \n",
       "1          215.31        19204.58  \n",
       "2          180.94        16138.75  \n",
       "3          149.43        13328.41  \n",
       "4          146.86        13098.63  \n",
       "5          144.96        12929.42  \n",
       "6          138.48        12351.26  \n",
       "7          130.97        11681.85  \n",
       "8          130.03        11598.07  \n",
       "9          127.23        11348.39  "
      ]
     },
     "execution_count": 86,
     "metadata": {},
     "output_type": "execute_result"
    }
   ],
   "source": [
    "df = transform(df,csv_path)\n",
    "df"
   ]
  },
  {
   "cell_type": "markdown",
   "id": "87b59552",
   "metadata": {},
   "source": [
    "# Task 4"
   ]
  },
  {
   "cell_type": "code",
   "execution_count": 87,
   "id": "f8417bec",
   "metadata": {},
   "outputs": [],
   "source": [
    "def load_to_csv(df, output_path):\n",
    "    df.to_csv(output_path)"
   ]
  },
  {
   "cell_type": "code",
   "execution_count": 88,
   "id": "d56f00ef",
   "metadata": {},
   "outputs": [],
   "source": [
    "load_to_csv(df,output_path)"
   ]
  },
  {
   "cell_type": "markdown",
   "id": "0470a650",
   "metadata": {},
   "source": [
    "# Task 5"
   ]
  },
  {
   "cell_type": "code",
   "execution_count": 89,
   "id": "79854fa9",
   "metadata": {},
   "outputs": [],
   "source": [
    "def load_to_db(df, sql_connection, table_name):\n",
    "    df.to_sql(table_name, sql_connection, if_exists='replace', index=False)"
   ]
  },
  {
   "cell_type": "code",
   "execution_count": 90,
   "id": "dc3c9fc4",
   "metadata": {},
   "outputs": [],
   "source": [
    "conn = sqlite3.connect(db_name)\n",
    "load_to_db(df, conn, table_name)"
   ]
  },
  {
   "cell_type": "markdown",
   "id": "cb8d716f",
   "metadata": {},
   "source": [
    "# Task 6"
   ]
  },
  {
   "cell_type": "code",
   "execution_count": 91,
   "id": "df385c47",
   "metadata": {},
   "outputs": [],
   "source": [
    "def run_query(query_statement, sql_connection):\n",
    "    print(query_statement)\n",
    "    query_output = pd.read_sql(query_statement, sql_connection)\n",
    "    print(query_output)"
   ]
  },
  {
   "cell_type": "code",
   "execution_count": 92,
   "id": "15510646",
   "metadata": {},
   "outputs": [
    {
     "name": "stdout",
     "output_type": "stream",
     "text": [
      "SELECT * FROM Largest_banks\n",
      "                                      Name  MC_USD_Billion  MC_GBP_Billion  \\\n",
      "0                           JPMorgan Chase          432.92          346.34   \n",
      "1                          Bank of America          231.52          185.22   \n",
      "2  Industrial and Commercial Bank of China          194.56          155.65   \n",
      "3               Agricultural Bank of China          160.68          128.54   \n",
      "4                                HDFC Bank          157.91          126.33   \n",
      "5                              Wells Fargo          155.87          124.70   \n",
      "6                                     HSBC          148.90          119.12   \n",
      "7                           Morgan Stanley          140.83          112.66   \n",
      "8                  China Construction Bank          139.82          111.86   \n",
      "9                            Bank of China          136.81          109.45   \n",
      "\n",
      "   MC_EUR_Billion  MC_INR_Billion  \n",
      "0          402.62        35910.71  \n",
      "1          215.31        19204.58  \n",
      "2          180.94        16138.75  \n",
      "3          149.43        13328.41  \n",
      "4          146.86        13098.63  \n",
      "5          144.96        12929.42  \n",
      "6          138.48        12351.26  \n",
      "7          130.97        11681.85  \n",
      "8          130.03        11598.07  \n",
      "9          127.23        11348.39  \n",
      "SELECT AVG(MC_GBP_Billion) FROM Largest_banks\n",
      "   AVG(MC_GBP_Billion)\n",
      "0              151.987\n",
      "SELECT Name from Largest_banks LIMIT 5\n",
      "                                      Name\n",
      "0                           JPMorgan Chase\n",
      "1                          Bank of America\n",
      "2  Industrial and Commercial Bank of China\n",
      "3               Agricultural Bank of China\n",
      "4                                HDFC Bank\n"
     ]
    }
   ],
   "source": [
    "query_statement_1 = f\"SELECT * FROM {table_name}\"\n",
    "run_query(query_statement_1, conn)\n",
    "query_statement_2 = f\"SELECT AVG(MC_GBP_Billion) FROM {table_name}\"\n",
    "run_query(query_statement_2, conn)\n",
    "query_statement_3 = f\"SELECT Name from {table_name} LIMIT 5\"\n",
    "run_query(query_statement_3, conn)\n"
   ]
  },
  {
   "cell_type": "markdown",
   "id": "34a6f8f7",
   "metadata": {},
   "source": [
    "# Task 7"
   ]
  },
  {
   "cell_type": "code",
   "execution_count": 93,
   "id": "43fbaa0e",
   "metadata": {},
   "outputs": [],
   "source": [
    "from datetime import datetime\n",
    "\n",
    "log_file = 'code_log.txt'\n",
    "timestamp_format = '%Y-%h-%d-%H:%M:%S'\n",
    "\n",
    "with open(log_file, \"w\") as f:\n",
    "    f.write(datetime.now().strftime(timestamp_format) + \" : Preliminaries complete. Initiating ETL process\\n\")\n",
    "    f.write(datetime.now().strftime(timestamp_format) + \" : Data extraction complete. Initiating Transformation process\\n\")\n",
    "    f.write(datetime.now().strftime(timestamp_format) + \" : Data transformation complete. Initiating Loading process\\n\")\n",
    "    f.write(datetime.now().strftime(timestamp_format) + \" : Data saved to CSV file\\n\")\n",
    "    f.write(datetime.now().strftime(timestamp_format) + \" : SQL Connection initiated\\n\")\n",
    "    f.write(datetime.now().strftime(timestamp_format) + \" : Data loaded to Database as a table, Executing queries\\n\")\n",
    "    f.write(datetime.now().strftime(timestamp_format) + \" : Process Complete\\n\")\n",
    "    f.write(datetime.now().strftime(timestamp_format) + \" : Server Connection closed\\n\")\n"
   ]
  }
 ],
 "metadata": {
  "kernelspec": {
   "display_name": "Python 3",
   "language": "python",
   "name": "python3"
  },
  "language_info": {
   "codemirror_mode": {
    "name": "ipython",
    "version": 3
   },
   "file_extension": ".py",
   "mimetype": "text/x-python",
   "name": "python",
   "nbconvert_exporter": "python",
   "pygments_lexer": "ipython3",
   "version": "3.13.7"
  }
 },
 "nbformat": 4,
 "nbformat_minor": 5
}
